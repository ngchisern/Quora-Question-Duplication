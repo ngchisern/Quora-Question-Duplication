{
 "cells": [
  {
   "cell_type": "code",
   "execution_count": 96,
   "id": "3d2c1c19",
   "metadata": {},
   "outputs": [],
   "source": [
    "import numpy as np\n",
    "import pandas as pd"
   ]
  },
  {
   "cell_type": "code",
   "execution_count": 97,
   "id": "01e67475",
   "metadata": {},
   "outputs": [],
   "source": [
    "series = list(range(0,768))\n",
    "left_names = ['q1_' + str(i) for i in series]\n",
    "right_names = ['q2_' + str(i) for i in series]"
   ]
  },
  {
   "cell_type": "code",
   "execution_count": 98,
   "id": "669be8e8",
   "metadata": {},
   "outputs": [],
   "source": [
    "start = 20001\n",
    "end = 45001\n",
    "window = 25000"
   ]
  },
  {
   "cell_type": "code",
   "execution_count": 99,
   "id": "6ce1a79c",
   "metadata": {
    "scrolled": true
   },
   "outputs": [],
   "source": [
    "ms_left = pd.read_csv(\"add_left.csv\", header=None, usecols=series, names=left_names)"
   ]
  },
  {
   "cell_type": "code",
   "execution_count": 100,
   "id": "4bb0c9c2",
   "metadata": {},
   "outputs": [],
   "source": [
    "ms_right = pd.read_csv(\"add_right.csv\", header=None, usecols=series, names=right_names)"
   ]
  },
  {
   "cell_type": "code",
   "execution_count": 101,
   "id": "8322bd1b",
   "metadata": {},
   "outputs": [
    {
     "name": "stdout",
     "output_type": "stream",
     "text": [
      "20001\n"
     ]
    }
   ],
   "source": [
    "iteration = 0\n",
    "\n",
    "for i in range(start, end, window):\n",
    "    print(i)\n",
    "    left_name = \"{}_{}_left.csv\".format(i, i + window - 1)\n",
    "    right_name = \"{}_{}_right.csv\".format(i, i + window - 1)\n",
    "    \n",
    "    new_left = pd.concat([pd.read_csv(left_name, header=None, usecols=series, names=left_names), ms_left.iloc[iteration:iteration+1]], ignore_index=True)\n",
    "    new_left.to_csv(left_name, index=False)\n",
    "    new_right = pd.concat([pd.read_csv(right_name, header=None, usecols=series, names=right_names), ms_right.iloc[iteration:iteration+1]], ignore_index=True)\n",
    "    new_right.to_csv(right_name, index=False)\n",
    "    iteration += 1"
   ]
  }
 ],
 "metadata": {
  "kernelspec": {
   "display_name": "Python 3 (ipykernel)",
   "language": "python",
   "name": "python3"
  },
  "language_info": {
   "codemirror_mode": {
    "name": "ipython",
    "version": 3
   },
   "file_extension": ".py",
   "mimetype": "text/x-python",
   "name": "python",
   "nbconvert_exporter": "python",
   "pygments_lexer": "ipython3",
   "version": "3.10.6"
  }
 },
 "nbformat": 4,
 "nbformat_minor": 5
}
