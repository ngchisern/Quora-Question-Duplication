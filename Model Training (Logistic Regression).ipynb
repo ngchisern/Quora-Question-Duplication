{
 "cells": [
  {
   "cell_type": "code",
   "execution_count": 1,
   "id": "501b82c5",
   "metadata": {},
   "outputs": [],
   "source": [
    "import numpy as np\n",
    "import pandas as pd"
   ]
  },
  {
   "cell_type": "code",
   "execution_count": null,
   "id": "eba0ba56",
   "metadata": {},
   "outputs": [],
   "source": [
    "# features from rfecv\n",
    "features1 = ['freq_qid1', 'freq_qid2', 'q1len', 'q2len', 'q1_words', 'q2_words',\n",
    "       'q1_characters', 'q2_characters', 'q1_u_words', 'q2_u_words',\n",
    "       'q2_u_words_wo_sw', 'total_u_words_wo_sw', 'word_common', 'word_total',\n",
    "       'word_share', 'freq_sum', 'freq_diff', 'chebyshev', 'braycurtis',\n",
    "       'cosine', 'correlation', 'canberra', 'cityblock', 'euclidean',\n",
    "       'minkowski', 'squared_euclidean', 'word_mover_distance', 'skew_q1',\n",
    "       'skew_q2', 'kurtosis_q1', 'kurtosis_q2', 'cwc_min', 'csc_min',\n",
    "       'csc_max', 'ctc_min', 'ctc_max', 'last_word_eq', 'abs_len_diff',\n",
    "       'mean_len', 'fuzz_ratio', 'fuzz_partial_ratio', 'token_sort_ratio',\n",
    "       'token_set_ratio', 'longest_substr_ratio', 'is_duplicate']"
   ]
  },
  {
   "cell_type": "code",
   "execution_count": null,
   "id": "8b56cbc2",
   "metadata": {},
   "outputs": [],
   "source": [
    "len(features1)"
   ]
  },
  {
   "cell_type": "code",
   "execution_count": null,
   "id": "d01ade3f",
   "metadata": {},
   "outputs": [],
   "source": [
    "df1 = pd.read_csv('undersampled_train_dataset.csv', usecols=features1)"
   ]
  },
  {
   "cell_type": "code",
   "execution_count": null,
   "id": "0dcbc222",
   "metadata": {
    "scrolled": true
   },
   "outputs": [],
   "source": [
    "df1.head()"
   ]
  },
  {
   "cell_type": "code",
   "execution_count": null,
   "id": "7bba2d84",
   "metadata": {},
   "outputs": [],
   "source": [
    "df1.replace([np.inf, -np.inf], np.nan, inplace=True)\n",
    "df1.dropna(how=\"any\", inplace=True)"
   ]
  },
  {
   "cell_type": "code",
   "execution_count": null,
   "id": "590d2e85",
   "metadata": {},
   "outputs": [],
   "source": [
    "dataset1 = df1.values"
   ]
  },
  {
   "cell_type": "code",
   "execution_count": null,
   "id": "9da40475",
   "metadata": {},
   "outputs": [],
   "source": [
    "X1 = dataset1[:, :-1]\n",
    "Y1 = dataset1[:, -1:]"
   ]
  },
  {
   "cell_type": "code",
   "execution_count": null,
   "id": "fffaa3ef",
   "metadata": {},
   "outputs": [],
   "source": [
    "from sklearn.model_selection import train_test_split\n",
    "X_train1, X_valid1, Y_train1, Y_valid1 = train_test_split(X1, Y1, test_size = 0.2, random_state = 42)"
   ]
  },
  {
   "cell_type": "code",
   "execution_count": null,
   "id": "cafdca98",
   "metadata": {},
   "outputs": [],
   "source": [
    "from sklearn.preprocessing import StandardScaler\n",
    "\n",
    "scaler1 = StandardScaler()\n",
    "scaler1.fit(X_train1)\n",
    "\n",
    "X_train_std1 = scaler1.transform(X_train1)\n",
    "Y_train1 = Y_train1.ravel()\n",
    "\n",
    "X_valid_std1 = scaler1.transform(X_valid1)"
   ]
  },
  {
   "cell_type": "code",
   "execution_count": 3,
   "id": "b06f7cf5",
   "metadata": {},
   "outputs": [],
   "source": [
    "from sklearn.linear_model import LogisticRegression\n",
    "from sklearn.model_selection import validation_curve"
   ]
  },
  {
   "cell_type": "code",
   "execution_count": null,
   "id": "66ad51cd",
   "metadata": {},
   "outputs": [],
   "source": [
    "clf1 = LogisticRegression(solver='sag', max_iter=3000, tol=5e-4)\n",
    "\n",
    "param_range = np.logspace(-3, 3, 7, endpoint=True)\n",
    "param_name=\"C\"\n",
    "cv = 5\n",
    "\n",
    "def cross_validate(scoring):\n",
    "    train_scores, valid_scores = validation_curve(\n",
    "        clf1, X_train_std1, Y_train1, param_name=param_name, param_range=param_range,\n",
    "        scoring=scoring,\n",
    "        cv=cv,\n",
    "        n_jobs=1,\n",
    "        error_score=\"raise\")\n",
    "    \n",
    "    print(train_scores)\n",
    "    print(valid_scores)\n",
    "    plot(scoring, train_scores, valid_scores)"
   ]
  },
  {
   "cell_type": "code",
   "execution_count": null,
   "id": "95f35fe4",
   "metadata": {},
   "outputs": [],
   "source": [
    "import matplotlib.pyplot as plt\n",
    "\n",
    "def plot(scoring, train_scores, valid_scores):\n",
    "    train_scores_mean = np.mean(train_scores, axis=1)\n",
    "    train_scores_std = np.std(train_scores, axis=1)\n",
    "    test_scores_mean = np.mean(valid_scores, axis=1)\n",
    "    test_scores_std = np.std(valid_scores, axis=1)\n",
    "    \n",
    "    print(train_scores_mean)\n",
    "    \n",
    "    plt.title(\"Validation Curve with Logistic Regression\")\n",
    "    plt.xlabel(\"C (Inverse of regularization strength)\")\n",
    "    plt.ylabel(scoring)\n",
    "    plt.ylim(0.0, 1.1)\n",
    "    lw = 2\n",
    "    plt.semilogx(\n",
    "        param_range, train_scores_mean, label=\"Training score\", color=\"darkorange\", lw=lw\n",
    "    )\n",
    "    plt.fill_between(\n",
    "        param_range,\n",
    "        train_scores_mean - train_scores_std,\n",
    "        train_scores_mean + train_scores_std,\n",
    "        alpha=0.2,\n",
    "        color=\"darkorange\",\n",
    "        lw=lw,\n",
    "    )\n",
    "    plt.semilogx(\n",
    "        param_range, test_scores_mean, label=\"Cross-validation score\", color=\"navy\", lw=lw\n",
    "    )\n",
    "    plt.fill_between(\n",
    "        param_range,\n",
    "        test_scores_mean - test_scores_std,\n",
    "        test_scores_mean + test_scores_std,\n",
    "        alpha=0.2,\n",
    "        color=\"navy\",\n",
    "        lw=lw,\n",
    "    )\n",
    "    plt.legend(loc=\"best\")\n",
    "    plt.show()"
   ]
  },
  {
   "cell_type": "code",
   "execution_count": null,
   "id": "2cbb312a",
   "metadata": {},
   "outputs": [],
   "source": [
    "X_train_std1.shape"
   ]
  },
  {
   "cell_type": "code",
   "execution_count": null,
   "id": "f2f2b320",
   "metadata": {},
   "outputs": [],
   "source": [
    "cross_validate('precision')"
   ]
  },
  {
   "cell_type": "code",
   "execution_count": 5,
   "id": "4204ac77",
   "metadata": {},
   "outputs": [],
   "source": [
    "clf1 = LogisticRegression(solver='sag', max_iter=3000, tol=5e-4, C=1.0)"
   ]
  },
  {
   "cell_type": "code",
   "execution_count": 6,
   "id": "873daec9",
   "metadata": {},
   "outputs": [
    {
     "ename": "NameError",
     "evalue": "name 'X_train_std1' is not defined",
     "output_type": "error",
     "traceback": [
      "\u001b[0;31m---------------------------------------------------------------------------\u001b[0m",
      "\u001b[0;31mNameError\u001b[0m                                 Traceback (most recent call last)",
      "Cell \u001b[0;32mIn [6], line 1\u001b[0m\n\u001b[0;32m----> 1\u001b[0m clf1\u001b[38;5;241m.\u001b[39mfit(X_train_std1, Y_train1)\n\u001b[1;32m      2\u001b[0m y_pred1 \u001b[38;5;241m=\u001b[39m clf1\u001b[38;5;241m.\u001b[39mpredict(X_valid_std1)\n",
      "\u001b[0;31mNameError\u001b[0m: name 'X_train_std1' is not defined"
     ]
    }
   ],
   "source": [
    "clf1.fit(X_train_std1, Y_train1)\n",
    "y_pred1 = clf1.predict(X_valid_std1)"
   ]
  },
  {
   "cell_type": "code",
   "execution_count": null,
   "id": "3504731c",
   "metadata": {},
   "outputs": [],
   "source": [
    "from sklearn.metrics import ConfusionMatrixDisplay"
   ]
  },
  {
   "cell_type": "code",
   "execution_count": null,
   "id": "a1fdbb69",
   "metadata": {},
   "outputs": [],
   "source": [
    "ConfusionMatrixDisplay.from_predictions(Y_valid1, y_pred1)\n",
    "plt.show()"
   ]
  },
  {
   "cell_type": "code",
   "execution_count": null,
   "id": "6d0254c3",
   "metadata": {},
   "outputs": [],
   "source": [
    "from sklearn.metrics import classification_report, confusion_matrix\n",
    "tn, fp, fn, tp = confusion_matrix(Y_valid1, y_pred1).ravel()\n",
    "print(confusion_matrix(Y_valid1, y_pred1))\n",
    "print(f\"TN: {tn}, FP: {fp}, FN: {fn}, TP: {tp}\")\n",
    "print(classification_report(Y_valid1, y_pred1))"
   ]
  },
  {
   "cell_type": "code",
   "execution_count": null,
   "id": "b64914ba",
   "metadata": {},
   "outputs": [],
   "source": [
    "df_test1 = pd.read_csv('undersampled_test_dataset.csv', usecols=features1)\n",
    "df_test1.replace([np.inf, -np.inf], np.nan, inplace=True)\n",
    "df_test1.dropna(how=\"any\", inplace=True)"
   ]
  },
  {
   "cell_type": "code",
   "execution_count": null,
   "id": "8bbbe47c",
   "metadata": {},
   "outputs": [],
   "source": [
    "dataset_test1 = df_test1.values\n",
    "X_test1 = dataset_test1[:, :-1]\n",
    "Y_test1 = dataset_test1[:, -1:]"
   ]
  },
  {
   "cell_type": "code",
   "execution_count": null,
   "id": "af6c59a8",
   "metadata": {},
   "outputs": [],
   "source": [
    "X_test_std1 = scaler.transform(X_test1)\n",
    "y_test_pred1 = clf.predict(X_test_std1)"
   ]
  },
  {
   "cell_type": "code",
   "execution_count": null,
   "id": "e540c457",
   "metadata": {},
   "outputs": [],
   "source": [
    "ConfusionMatrixDisplay.from_predictions(Y_test1, y_test_pred1)\n",
    "plt.show()"
   ]
  },
  {
   "cell_type": "code",
   "execution_count": null,
   "id": "4da9caf5",
   "metadata": {},
   "outputs": [],
   "source": [
    "from sklearn.metrics import classification_report, confusion_matrix\n",
    "tn, fp, fn, tp = confusion_matrix(Y_test1, y_test_pred1).ravel()\n",
    "print(confusion_matrix(Y_test1, y_test_pred1))\n",
    "print(f\"TN: {tn}, FP: {fp}, FN: {fn}, TP: {tp}\")\n",
    "print(classification_report(Y_test1, y_test_pred1))"
   ]
  },
  {
   "cell_type": "code",
   "execution_count": 55,
   "id": "3512bd37",
   "metadata": {},
   "outputs": [],
   "source": [
    "# features from rfe (features = 20)\n",
    "features2 = ['freq_qid1', 'freq_qid2', 'word_share', 'freq_sum', 'freq_diff',\n",
    "       'braycurtis', 'cosine', 'correlation', 'euclidean', 'squared_euclidean',\n",
    "       'skew_q1', 'kurtosis_q1', 'cwc_min', 'csc_max', 'ctc_min', 'ctc_max',\n",
    "       'abs_len_diff', 'token_sort_ratio', 'token_set_ratio',\n",
    "       'longest_substr_ratio', 'is_duplicate']"
   ]
  },
  {
   "cell_type": "code",
   "execution_count": 56,
   "id": "9456d264",
   "metadata": {},
   "outputs": [],
   "source": [
    "df2 = pd.read_csv('undersampled_train_dataset.csv', usecols=features2)\n",
    "df2.replace([np.inf, -np.inf], np.nan, inplace=True)\n",
    "df2.dropna(how=\"any\", inplace=True)"
   ]
  },
  {
   "cell_type": "code",
   "execution_count": 57,
   "id": "cdf964ae",
   "metadata": {},
   "outputs": [],
   "source": [
    "dataset2 = df2.values\n",
    "X2 = dataset2[:, :-1]\n",
    "Y2 = dataset2[:, -1:]\n",
    "\n",
    "from sklearn.model_selection import train_test_split\n",
    "X_train2, X_valid2, Y_train2, Y_valid2 = train_test_split(X2, Y2, test_size = 0.2, random_state = 42)"
   ]
  },
  {
   "cell_type": "code",
   "execution_count": 58,
   "id": "75fa5d10",
   "metadata": {},
   "outputs": [],
   "source": [
    "from sklearn.preprocessing import StandardScaler\n",
    "scaler2 = StandardScaler()\n",
    "scaler2.fit(X_train2)\n",
    "\n",
    "X_train_std2 = scaler2.transform(X_train2)\n",
    "Y_train2 = Y_train2.ravel()\n",
    "\n",
    "X_valid_std2 = scaler2.transform(X_valid2)"
   ]
  },
  {
   "cell_type": "code",
   "execution_count": 59,
   "id": "d60e9525",
   "metadata": {},
   "outputs": [],
   "source": [
    "from sklearn.linear_model import LogisticRegression\n",
    "from sklearn.model_selection import validation_curve"
   ]
  },
  {
   "cell_type": "code",
   "execution_count": 60,
   "id": "5e1c8a06",
   "metadata": {},
   "outputs": [],
   "source": [
    "clf2 = LogisticRegression(solver='sag', max_iter=3000, tol=5e-4, C=1.0)\n",
    "clf2.fit(X_train_std2, Y_train2)\n",
    "y_pred2 = clf2.predict(X_valid_std2)"
   ]
  },
  {
   "cell_type": "code",
   "execution_count": 61,
   "id": "f3c64af0",
   "metadata": {},
   "outputs": [
    {
     "name": "stdout",
     "output_type": "stream",
     "text": [
      "[[ 1.46292693 -1.51420072  1.19767103 -1.18482925  1.92544194 -3.19215787\n",
      "   0.47738775  0.64152     0.96177806 -0.39245821  0.59104525 -1.94021797\n",
      "  -0.62213164  0.41326223  0.31916579 -0.60634532]]\n"
     ]
    },
    {
     "data": {
      "image/png": "[encoded data removed]",
      "text/plain": [
       "<Figure size 900x700 with 1 Axes>"
      ]
     },
     "metadata": {},
     "output_type": "display_data"
    }
   ],
   "source": [
    "import matplotlib.pyplot as plt\n",
    "\n",
    "print(clf2.coef_)\n",
    "\n",
    "coefs = pd.DataFrame(\n",
    "   clf2.coef_[0],\n",
    "   columns=['Coefficients'], index=np.array(features2[:-1])\n",
    ");\n",
    "\n",
    "coefs.plot(kind='barh', figsize=(9, 7))\n",
    "plt.title('Feature Attribution of Logistic Regression')\n",
    "plt.axvline(x=0, color='.5')\n",
    "plt.subplots_adjust(left=.3)"
   ]
  },
  {
   "cell_type": "code",
   "execution_count": 62,
   "id": "3172fc23",
   "metadata": {},
   "outputs": [],
   "source": [
    "from sklearn.metrics import ConfusionMatrixDisplay"
   ]
  },
  {
   "cell_type": "code",
   "execution_count": 63,
   "id": "5848cc40",
   "metadata": {},
   "outputs": [
    {
     "data": {
      "image/png": "[encoded data removed]",
      "text/plain": [
       "<Figure size 640x480 with 2 Axes>"
      ]
     },
     "metadata": {},
     "output_type": "display_data"
    }
   ],
   "source": [
    "ConfusionMatrixDisplay.from_predictions(Y_valid2, y_pred2)\n",
    "plt.show()"
   ]
  },
  {
   "cell_type": "code",
   "execution_count": 64,
   "id": "823d568f",
   "metadata": {},
   "outputs": [
    {
     "name": "stdout",
     "output_type": "stream",
     "text": [
      "[[14643  6923]\n",
      " [ 4634 16856]]\n",
      "TN: 14643, FP: 6923, FN: 4634, TP: 16856\n",
      "              precision    recall  f1-score   support\n",
      "\n",
      "         0.0       0.76      0.68      0.72     21566\n",
      "         1.0       0.71      0.78      0.74     21490\n",
      "\n",
      "    accuracy                           0.73     43056\n",
      "   macro avg       0.73      0.73      0.73     43056\n",
      "weighted avg       0.73      0.73      0.73     43056\n",
      "\n"
     ]
    }
   ],
   "source": [
    "from sklearn.metrics import classification_report, confusion_matrix\n",
    "tn, fp, fn, tp = confusion_matrix(Y_valid2, y_pred2).ravel()\n",
    "print(confusion_matrix(Y_valid2, y_pred2))\n",
    "print(f\"TN: {tn}, FP: {fp}, FN: {fn}, TP: {tp}\")\n",
    "print(classification_report(Y_valid2, y_pred2))"
   ]
  },
  {
   "cell_type": "code",
   "execution_count": 65,
   "id": "348e7488",
   "metadata": {},
   "outputs": [],
   "source": [
    "df_test2 = pd.read_csv('undersampled_test_dataset.csv', usecols=features2)\n",
    "df_test2.replace([np.inf, -np.inf], np.nan, inplace=True)\n",
    "df_test2.dropna(how=\"any\", inplace=True)"
   ]
  },
  {
   "cell_type": "code",
   "execution_count": 66,
   "id": "476b352f",
   "metadata": {},
   "outputs": [],
   "source": [
    "dataset_test2 = df_test2.values\n",
    "X_test2 = dataset_test2[:, :-1]\n",
    "Y_test2 = dataset_test2[:, -1:]"
   ]
  },
  {
   "cell_type": "code",
   "execution_count": 67,
   "id": "a616e2d4",
   "metadata": {},
   "outputs": [],
   "source": [
    "X_test_std2 = scaler2.transform(X_test2)\n",
    "y_test_pred2 = clf2.predict(X_test_std2)"
   ]
  },
  {
   "cell_type": "code",
   "execution_count": 68,
   "id": "382228d9",
   "metadata": {},
   "outputs": [
    {
     "data": {
      "image/png": "[encoded data removed]",
      "text/plain": [
       "<Figure size 640x480 with 2 Axes>"
      ]
     },
     "metadata": {},
     "output_type": "display_data"
    }
   ],
   "source": [
    "ConfusionMatrixDisplay.from_predictions(Y_test2, y_test_pred2)\n",
    "plt.show()"
   ]
  },
  {
   "cell_type": "code",
   "execution_count": 69,
   "id": "42f85fb5",
   "metadata": {},
   "outputs": [
    {
     "name": "stdout",
     "output_type": "stream",
     "text": [
      "[[18525  8249]\n",
      " [ 5726 21048]]\n",
      "TN: 18525, FP: 8249, FN: 5726, TP: 21048\n",
      "              precision    recall  f1-score   support\n",
      "\n",
      "         0.0       0.76      0.69      0.73     26774\n",
      "         1.0       0.72      0.79      0.75     26774\n",
      "\n",
      "    accuracy                           0.74     53548\n",
      "   macro avg       0.74      0.74      0.74     53548\n",
      "weighted avg       0.74      0.74      0.74     53548\n",
      "\n"
     ]
    }
   ],
   "source": [
    "from sklearn.metrics import classification_report, confusion_matrix\n",
    "tn, fp, fn, tp = confusion_matrix(Y_test2, y_test_pred2).ravel()\n",
    "print(confusion_matrix(Y_test2, y_test_pred2))\n",
    "print(f\"TN: {tn}, FP: {fp}, FN: {fn}, TP: {tp}\")\n",
    "print(classification_report(Y_test2, y_test_pred2))"
   ]
  }
 ],
 "metadata": {
  "kernelspec": {
   "display_name": "Python 3 (ipykernel)",
   "language": "python",
   "name": "python3"
  },
  "language_info": {
   "codemirror_mode": {
    "name": "ipython",
    "version": 3
   },
   "file_extension": ".py",
   "mimetype": "text/x-python",
   "name": "python",
   "nbconvert_exporter": "python",
   "pygments_lexer": "ipython3",
   "version": "3.10.8"
  }
 },
 "nbformat": 4,
 "nbformat_minor": 5
}
