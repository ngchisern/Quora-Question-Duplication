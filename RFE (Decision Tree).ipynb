{
 "cells": [
  {
   "cell_type": "code",
   "execution_count": 1,
   "id": "ad51d442",
   "metadata": {},
   "outputs": [],
   "source": [
    "import numpy as np\n",
    "import pandas as pd"
   ]
  },
  {
   "cell_type": "code",
   "execution_count": 2,
   "id": "33dad55d",
   "metadata": {},
   "outputs": [],
   "source": [
    "df = pd.read_csv('undersampled_train_dataset.csv')"
   ]
  },
  {
   "cell_type": "code",
   "execution_count": 3,
   "id": "0d953c42",
   "metadata": {},
   "outputs": [],
   "source": [
    "df.replace([np.inf, -np.inf], np.nan, inplace=True)\n",
    "df.dropna(how=\"any\", inplace=True)"
   ]
  },
  {
   "cell_type": "code",
   "execution_count": 4,
   "id": "23d2f336",
   "metadata": {},
   "outputs": [],
   "source": [
    "dataset = df.values"
   ]
  },
  {
   "cell_type": "code",
   "execution_count": 5,
   "id": "ff9d2be6",
   "metadata": {},
   "outputs": [],
   "source": [
    "X = dataset[:, :-1]\n",
    "Y = dataset[:, -1:]"
   ]
  },
  {
   "cell_type": "code",
   "execution_count": 6,
   "id": "03c6aee3",
   "metadata": {},
   "outputs": [],
   "source": [
    "from sklearn.model_selection import train_test_split\n",
    "X_train, X_test, Y_train, Y_test = train_test_split(X, Y, test_size = 0.2, random_state = 42)"
   ]
  },
  {
   "cell_type": "code",
   "execution_count": 7,
   "id": "e129c223",
   "metadata": {},
   "outputs": [],
   "source": [
    "from sklearn.preprocessing import StandardScaler\n",
    "\n",
    "scaler = StandardScaler()\n",
    "scaler.fit(X_train)\n",
    "\n",
    "X_train_std = scaler.transform(X_train)\n",
    "Y_train = Y_train.ravel()\n",
    "\n",
    "X_test_std = scaler.transform(X_test)"
   ]
  },
  {
   "cell_type": "code",
   "execution_count": 8,
   "id": "758c71f7",
   "metadata": {},
   "outputs": [],
   "source": [
    "from sklearn.feature_selection import RFE\n",
    "from sklearn.tree import DecisionTreeClassifier"
   ]
  },
  {
   "cell_type": "code",
   "execution_count": 10,
   "id": "1c3afb20",
   "metadata": {},
   "outputs": [],
   "source": [
    "rfe = RFE(estimator=DecisionTreeClassifier(), n_features_to_select=15, step=1)\n",
    "_ = rfe.fit(X_train_std, Y_train)"
   ]
  },
  {
   "cell_type": "code",
   "execution_count": 10,
   "id": "08897602",
   "metadata": {},
   "outputs": [],
   "source": [
    "rfe.support_"
   ]
  },
  {
   "cell_type": "code",
   "execution_count": 11,
   "id": "51acedae",
   "metadata": {},
   "outputs": [
    {
     "data": {
      "text/plain": [
       "Index(['freq_qid1', 'freq_qid2', 'q1len', 'q2len', 'chebyshev', 'canberra',\n",
       "       'cityblock', 'word_mover_distance', 'skew_q1', 'skew_q2', 'cwc_max',\n",
       "       'csc_max', 'ctc_max', 'token_set_ratio', 'longest_substr_ratio'],\n",
       "      dtype='object')"
      ]
     },
     "execution_count": 11,
     "metadata": {},
     "output_type": "execute_result"
    }
   ],
   "source": [
    "df.columns[:-1][rfe.support_]"
   ]
  },
  {
   "cell_type": "code",
   "execution_count": 12,
   "id": "b7bb62e7",
   "metadata": {},
   "outputs": [],
   "source": [
    "clf = DecisionTreeClassifier()\n",
    "_ = clf.fit(rfe.transform(X_train_std), Y_train)"
   ]
  },
  {
   "cell_type": "code",
   "execution_count": 13,
   "id": "1f86d801",
   "metadata": {},
   "outputs": [
    {
     "data": {
      "text/plain": [
       "1.0"
      ]
     },
     "execution_count": 13,
     "metadata": {},
     "output_type": "execute_result"
    }
   ],
   "source": [
    "clf.score(rfe.transform(X_train_std), Y_train)"
   ]
  },
  {
   "cell_type": "code",
   "execution_count": 14,
   "id": "89fe5bb0",
   "metadata": {},
   "outputs": [
    {
     "data": {
      "text/plain": [
       "0.7874994193338598"
      ]
     },
     "execution_count": 14,
     "metadata": {},
     "output_type": "execute_result"
    }
   ],
   "source": [
    "clf.score(rfe.transform(X_test_std), Y_test)"
   ]
  },
  {
   "cell_type": "code",
   "execution_count": 15,
   "id": "dda0bc5f",
   "metadata": {},
   "outputs": [],
   "source": [
    "# from sklearn.feature_selection import RFECV"
   ]
  },
  {
   "cell_type": "code",
   "execution_count": 16,
   "id": "1e3c0af9",
   "metadata": {},
   "outputs": [],
   "source": [
    "# # Init, fit\n",
    "# rfecv = RFECV(\n",
    "#     estimator=DecisionTreeClassifier(),\n",
    "#     step=1,\n",
    "#     n_jobs=-1,\n",
    "#     scoring=\"accuracy\",\n",
    "#     cv=5,\n",
    "# )"
   ]
  },
  {
   "cell_type": "code",
   "execution_count": 17,
   "id": "49af1e34",
   "metadata": {},
   "outputs": [],
   "source": [
    "# _ = rfecv.fit(X_train_std, Y_train)"
   ]
  },
  {
   "cell_type": "code",
   "execution_count": 18,
   "id": "e0aaa7aa",
   "metadata": {},
   "outputs": [
    {
     "name": "stdout",
     "output_type": "stream",
     "text": [
      "Optimal number of features : \n"
     ]
    },
    {
     "data": {
      "text/plain": [
       "47"
      ]
     },
     "execution_count": 18,
     "metadata": {},
     "output_type": "execute_result"
    }
   ],
   "source": [
    "# print(\"Optimal number of features : \")\n",
    "# rfecv.n_features_"
   ]
  },
  {
   "cell_type": "code",
   "execution_count": 19,
   "id": "29acee71",
   "metadata": {},
   "outputs": [
    {
     "data": {
      "text/plain": [
       "array([1, 1, 1, 1, 1, 1, 1, 1, 1, 1, 1, 1, 1, 1, 1, 1, 1, 1, 1, 1, 1, 1, 1,\n",
       "       1, 1, 1, 1, 1, 1, 1, 1, 1, 1, 1, 1, 1, 1, 1, 1, 1, 1, 1, 1, 1, 1, 1,\n",
       "       1])"
      ]
     },
     "execution_count": 19,
     "metadata": {},
     "output_type": "execute_result"
    }
   ],
   "source": [
    "# rfecv.ranking_"
   ]
  },
  {
   "cell_type": "code",
   "execution_count": 20,
   "id": "2f9d8a97",
   "metadata": {},
   "outputs": [],
   "source": [
    "# import matplotlib.pyplot as plt"
   ]
  },
  {
   "cell_type": "code",
   "execution_count": 21,
   "id": "3004d09c",
   "metadata": {},
   "outputs": [
    {
     "data": {
      "image/png": "[encoded data removed]",
      "text/plain": [
       "<matplotlib.figure.Figure at 0x2b1c63c10a90>"
      ]
     },
     "metadata": {},
     "output_type": "display_data"
    }
   ],
   "source": [
    "# # Plot number of features VS. cross-validation scores\n",
    "# plt.figure()\n",
    "# plt.xlabel(\"Number of features selected\")\n",
    "# plt.ylabel(\"Cross validation score (accuracy)\")\n",
    "# plt.plot(\n",
    "#     range(1, len(rfecv.grid_scores_) + 1),\n",
    "#     rfecv.grid_scores_,\n",
    "# )\n",
    "# plt.show()"
   ]
  },
  {
   "cell_type": "code",
   "execution_count": 22,
   "id": "85c73bcf",
   "metadata": {},
   "outputs": [
    {
     "data": {
      "text/plain": [
       "Index(['freq_qid1', 'freq_qid2', 'q1len', 'q2len', 'q1_words', 'q2_words',\n",
       "       'q1_characters', 'q2_characters', 'q1_u_words', 'q2_u_words',\n",
       "       'q1_u_words_wo_sw', 'q2_u_words_wo_sw', 'total_u_words_wo_sw',\n",
       "       'word_common', 'word_total', 'word_share', 'freq_sum', 'freq_diff',\n",
       "       'chebyshev', 'braycurtis', 'cosine', 'correlation', 'canberra',\n",
       "       'cityblock', 'euclidean', 'minkowski', 'squared_euclidean',\n",
       "       'word_mover_distance', 'skew_q1', 'skew_q2', 'kurtosis_q1',\n",
       "       'kurtosis_q2', 'cwc_min', 'cwc_max', 'csc_min', 'csc_max', 'ctc_min',\n",
       "       'ctc_max', 'last_word_eq', 'first_word_eq', 'abs_len_diff', 'mean_len',\n",
       "       'fuzz_ratio', 'fuzz_partial_ratio', 'token_sort_ratio',\n",
       "       'token_set_ratio', 'longest_substr_ratio'],\n",
       "      dtype='object')"
      ]
     },
     "execution_count": 22,
     "metadata": {},
     "output_type": "execute_result"
    }
   ],
   "source": [
    "# df.columns[:-1][rfecv.support_]"
   ]
  },
  {
   "cell_type": "code",
   "execution_count": 23,
   "id": "303163ed",
   "metadata": {},
   "outputs": [],
   "source": [
    "# clf = DecisionTreeClassifier()\n",
    "# _ = clf.fit(rfecv.transform(X_train_std), Y_train)"
   ]
  },
  {
   "cell_type": "code",
   "execution_count": 24,
   "id": "88eb3c73",
   "metadata": {},
   "outputs": [
    {
     "data": {
      "text/plain": [
       "0.79511775909323179"
      ]
     },
     "execution_count": 24,
     "metadata": {},
     "output_type": "execute_result"
    }
   ],
   "source": [
    "# clf.score(rfecv.transform(X_test_std), Y_test)"
   ]
  },
  {
   "cell_type": "code",
   "execution_count": 25,
   "id": "eee07501",
   "metadata": {},
   "outputs": [
    {
     "data": {
      "text/plain": [
       "0.79511775909323179"
      ]
     },
     "execution_count": 25,
     "metadata": {},
     "output_type": "execute_result"
    }
   ],
   "source": [
    "# clf.score(rfecv.transform(X_test_std), Y_test)"
   ]
  }
 ],
 "metadata": {
  "kernelspec": {
   "display_name": "Python 3 (ipykernel)",
   "language": "python",
   "name": "python3"
  },
  "language_info": {
   "codemirror_mode": {
    "name": "ipython",
    "version": 3
   },
   "file_extension": ".py",
   "mimetype": "text/x-python",
   "name": "python",
   "nbconvert_exporter": "python",
   "pygments_lexer": "ipython3",
   "version": "3.10.8"
  }
 },
 "nbformat": 4,
 "nbformat_minor": 5
}
